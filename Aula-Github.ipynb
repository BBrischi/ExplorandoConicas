{
 "cells": [
  {
   "cell_type": "markdown",
   "id": "786c6d3f",
   "metadata": {},
   "source": [
    "# Aula de Github"
   ]
  },
  {
   "cell_type": "markdown",
   "id": "fc2d8234",
   "metadata": {},
   "source": [
    "## Criando sua conta"
   ]
  },
  {
   "cell_type": "markdown",
   "id": "4f2e9365",
   "metadata": {},
   "source": [
    "Nesta aula iremos aprender a utilizar o Github.<br>\n",
    "O primeiro passo será criar uma conta no github. Vá ao endereço www.github.com e clique em \"Sign Up\", no canto superior direito. Uma dica, o Github serve como portfólio no futuro, então tentem escolher um nome de usuário com viés profissional."
   ]
  },
  {
   "cell_type": "markdown",
   "id": "4f10c017",
   "metadata": {},
   "source": [
    "## Criando um repositório"
   ]
  },
  {
   "cell_type": "markdown",
   "id": "0ebb572c",
   "metadata": {},
   "source": [
    "Agora que sua conta foi criada, precisamos criar um repositório.<br>\n",
    "Em sua página inicial no canto direito superior há um botão chamado \"New\", clique nele.<br>\n",
    "Agora várias informações serão necessárias, como mostrado na imagem abaixo. O que significa cada campo?<br>\n",
    "- Repository Name: Este é o nome do repositório, pense com o grupo um nome legal para ele.\n",
    "- Description: É uma breve descrição do que terá no repositório.\n",
    "- Public/Private: Se o repositório será público ou privado. Para a disciplina devemos deixar público.\n",
    "- Add a README file: Marque esta caixa, pois é no README que colocaremos as principais informações do código.\n",
    "- Choose a license: Vamos escolher a licença GNU General Public License v3.0. Recomendo sempre a escolha de licenças de software livre quando possível, pois o conhecimento é para ser compartilhado.\n",
    "- Agora cliquem em \"Create Repository\" para criar o repositório do seu trabalho da disciplina.\n",
    "<br><br>\n",
    "\n",
    "<div>\n",
    "    <img src=\"new-rep.PNG\" width=\"500\"/>\n",
    "</div>"
   ]
  },
  {
   "cell_type": "markdown",
   "id": "b8cc870f",
   "metadata": {},
   "source": [
    "## Clonando o repositório"
   ]
  },
  {
   "cell_type": "markdown",
   "id": "f430214f",
   "metadata": {},
   "source": [
    "Vocês já devem ter o github instalado em suas máquinas. Então vamos usá-lo!<br>\n",
    "Crie uma nova pasta onde vocês colocarão seu código, nessa pasta, clique com o botão direito e depois em git bash here, como mostrado na figura abaixo:\n",
    "<div>\n",
    "    <img src=\"git-bash.png\" width=\"600\"/>\n",
    "</div>"
   ]
  },
  {
   "cell_type": "markdown",
   "id": "169a5cc6",
   "metadata": {},
   "source": [
    "Com isso, uma tela como esta será aberta:\n",
    "<div>\n",
    "    <img src=\"terminal.PNG\" width=\"500\"/>\n",
    "</div>"
   ]
  },
  {
   "cell_type": "markdown",
   "id": "5821debf",
   "metadata": {},
   "source": [
    "Ótimo, agora podemos começar com o github.<br>\n",
    "Vamos clonar o repositório recém criado, para isso precisamos do endereço do repositório, que pode ser obtido clicando no botão verde escrito \"<> Code\", então logo ao lado do endereço a um botão para copiar o endereço, como mostrado na figura abaixo:\n",
    "<div>\n",
    "    <img src=\"clone-rep.png\" width=\"500\"/>\n",
    "</div>"
   ]
  },
  {
   "cell_type": "markdown",
   "id": "27fb445b",
   "metadata": {},
   "source": [
    "Vamos clonar o repositório com o seguinte comando:<br>\n",
    "_git clone endereço copiado_ <br>\n",
    "Na figura abaixo o procedimento é mostrado:<br>\n",
    "<div>\n",
    "    <img src=\"clone-rep-cmd.PNG\" width=\"400\"/>\n",
    "</div>"
   ]
  },
  {
   "cell_type": "markdown",
   "id": "47148266",
   "metadata": {},
   "source": [
    "Agora o repositório está clonado, então podemos começar a trabalhar no código.<br>\n",
    "Notem que, se você alterar o código e outro colega também alterar ao mesmo tempo, conflitos ocorrerão, então se coordenem para evitar este tipo de problema.<br>\n",
    "Vamos colocar o código nesta pasta, e então enviá-lo para o Github.<br>\n",
    "Notem que, na pasta que vocês criaram, após o comando _git clone_, outra pasta foi criada, copiem o código para esta nova pasta criada, então entrem nessa pasta no terminal do git.<br>"
   ]
  },
  {
   "cell_type": "markdown",
   "id": "22040e47",
   "metadata": {},
   "source": [
    "Com o código na pasta, e estando dentro da pasta criada, vamos fazer o seguinte:\n",
    "- Digite _git status_\n",
    "     - Isso irá mostrar o que há de diferente no Github e na sua pasta local, algo como o mostrado na imagem abaixo:\n",
    "<div>\n",
    "    <img src=\"git-status.PNG\" width=\"400\"/>\n",
    "</div>\n",
    "- Digite _git add ._ para adicionar os arquivos que não estão no repositório online para submissão.\n",
    "    - Alguma mensagem dizendo que arquivos serão sobrescritos pode aparecer, por hora isso não é problemático.\n",
    "    - Quando você quiser alterar apenas um arquivo, o comando _git add nome-do-arquivo_ pode ser utilizado.\n",
    "- Digite agora: _git commit -m \"Submissão inicial\"_\n",
    "    - O texto \"Submissão inicial\" explica o que está sendo feito neste _commit_, agora é a submissão inicial mesmo, mas em futuros commits expliquem o que está sendo realizado.\n",
    "- Agora para enviar para o repositório online, digitem _git push_.\n",
    "    - O git irá pedir para vocês autorizarem no browser o seu login, assim seu usuário fica associado ao commit. Podem seguir em frente sem medo.\n",
    "<br>\n",
    "No final, algo como o mostrado na imagem abaixo deve ter acontecido:\n",
    "<div>\n",
    "    <img src=\"git-total.PNG\" width=\"500\"/>\n",
    "</div>"
   ]
  },
  {
   "cell_type": "markdown",
   "id": "1d8bcd85",
   "metadata": {},
   "source": [
    "Pronto, agora tudo está no repositório online! Parabéns!<br>\n",
    "Sempre quando forem começar a alterar um código que é editado em grupo, vocês devem baixa a versão mais nova do código, para evitar conflitos, para isso, utilizem o comando _git pull_. Após o _pull_ editem o código, mas conversem com os colegas para saber se eles também não estão editando. Como provavelmente seus códigos só terão um arquivo, podem ocorrer os conflitos. Códigos maiores são estruturados em vários arquivos, assim cada programador pode trabalhar simultâneamente sem problemas de conflito."
   ]
  },
  {
   "cell_type": "markdown",
   "id": "d885da0f",
   "metadata": {},
   "source": [
    "## Colaborando no github"
   ]
  },
  {
   "cell_type": "markdown",
   "id": "6ab4676b",
   "metadata": {},
   "source": [
    "Agora todos os membros do grupo precisam ser adicionados no seu github. Para isso, dentro do repositório faça os seguintes passos, como mostrado na imagem abaixo:\n",
    "- Clique em Settings.\n",
    "- Clique em Collaborators.\n",
    "- Clique em Add people.\n",
    "- Agora adicione os usuários de seus colegas.\n",
    "Pronto, agora seus colegas poderão enviar _git push_ para o repositório do trabalho :)<br>\n",
    "<div>\n",
    "    <img src=\"collab.PNG\" width=\"600\"/>\n",
    "</div>\n",
    "<br>\n",
    "Também há como colaborar em projetos que você não foi adicionado como colaborador, isto é feito via _pull request_. Para quem tiver interesse, pode consultar a documentação do Github em: https://docs.github.com/pt/pull-requests/collaborating-with-pull-requests/proposing-changes-to-your-work-with-pull-requests/creating-a-pull-request"
   ]
  },
  {
   "cell_type": "markdown",
   "id": "6b401569",
   "metadata": {},
   "source": [
    "# Tarefa desta aula"
   ]
  },
  {
   "cell_type": "markdown",
   "id": "e3ea2f9e",
   "metadata": {},
   "source": [
    "- O repositório deve ser criado.\n",
    "- Todos membros do grupo devem ser adicionados.\n",
    "- Um README.md deve ter uma explicação do que vocês pretendem realizar no trabalho semestral.\n",
    "    - Se tiver algum código já podem mandar, mas não é necessário por hora.\n",
    "- Enviem o link do repositório na atividade do Teams."
   ]
  },
  {
   "cell_type": "code",
   "execution_count": null,
   "id": "61939265",
   "metadata": {},
   "outputs": [],
   "source": []
  }
 ],
 "metadata": {
  "kernelspec": {
   "display_name": "Python 3 (ipykernel)",
   "language": "python",
   "name": "python3"
  },
  "language_info": {
   "codemirror_mode": {
    "name": "ipython",
    "version": 3
   },
   "file_extension": ".py",
   "mimetype": "text/x-python",
   "name": "python",
   "nbconvert_exporter": "python",
   "pygments_lexer": "ipython3",
   "version": "3.9.12"
  }
 },
 "nbformat": 4,
 "nbformat_minor": 5
}
